{
 "cells": [
  {
   "cell_type": "markdown",
   "metadata": {},
   "source": [
    "# 予測に忠実に従うときの期待利得"
   ]
  },
  {
   "cell_type": "markdown",
   "metadata": {},
   "source": [
    "基本作った予測は利用してもらう前提として、どれくらい信用できるのかな？を見る。"
   ]
  },
  {
   "cell_type": "markdown",
   "metadata": {},
   "source": [
    "## 前提・利得行列\n",
    "\n",
    "||対策あり$a_1$|対策なし$a_2$|\n",
    "|---|---|---|\n",
    "|問題なし$\\theta_1$|$c'(a_1, \\theta_1)= -C/L$|$c'(a_2, \\theta_1)=0$|\n",
    "|問題あり$\\theta_2$|$c'(a_1, \\theta_2)= -C/L$|$c'(a_2, \\theta_2)=-1$|\n",
    "\n",
    "- Cは対策をするためにかかるコスト\n",
    "- Lは対策をしない場合の損失(ロスト)\n",
    "\n",
    "\n",
    "前回までの利得行列で算出すると以下のようになる。\n",
    "\n",
    "||1台稼働$a_1$(対策あり)|2台稼働$a_2$(対策なし)|\n",
    "|---|---|---|\n",
    "|好況$\\theta_1$(問題なし)|300|700|\n",
    "|不況$\\theta_2$(問題あり)|300|-300|\n",
    "\n",
    "- 都合のいい状態(問題なし・対策なし)で得られる利益は700万円\n",
    "\n",
    "利益を差し引くと以下になる。\n",
    "||1台稼働$a_1$(対策あり)|2台稼働$a_2$(対策なし)|\n",
    "|---|---|---|\n",
    "|好況$\\theta_1$(問題なし)|-400|0|\n",
    "|不況$\\theta_2$(問題あり)|-400|-1000|\n",
    "\n",
    "さらに、-1000万円でスケーリングする。\n",
    "||1台稼働$a_1$(対策あり)|2台稼働$a_2$(対策なし)|\n",
    "|---|---|---|\n",
    "|好況$\\theta_1$(問題なし)|-0.4|0|\n",
    "|不況$\\theta_2$(問題あり)|-0.4|-1|\n",
    "\n"
   ]
  },
  {
   "cell_type": "markdown",
   "metadata": {},
   "source": [
    "## 需要予測の結果\n",
    "以下の結果のモデルができているとする。\n",
    "\n",
    "|||好況予測$f_1$(問題なし)|不況予測$f_2$(問題あり)|合計|\n",
    "|---|---|---|---|---|\n",
    "|自然の状態$\\Theta$|好況$\\theta_1$(問題なし)|$P(\\theta_1,f_1)=0.35$|$P(\\theta_1, f_2)=0.05$|$P(\\theta_1)=0.4$|\n",
    "||不況$\\theta_2$(問題あり)|$P(\\theta_2,f_1)=0.1$|$P(\\theta_2, f_2)=0.5$|$P(\\theta_2)=0.6$|\n",
    "||合計|$P(f_1)=0.45$|$P(f_2)=0.55$|1|"
   ]
  },
  {
   "cell_type": "markdown",
   "metadata": {},
   "source": [
    "## 期待利得の計算\n",
    "\n",
    "### 予測を使わない場合の期待利得\n",
    "\n",
    "$$\\text{ESV}(a_j|P(\\theta))=\\sum_{i=1}^2P(\\theta_i)\\cdot c'(a_j,\\theta_i)$$\n",
    "\n",
    "このとき、$c'(a_j, \\theta_i)$は以下で計算するとする。\n",
    "\n",
    "$$c'(a_j, \\theta_i)=\\frac{c(a_j, \\theta_i)-T}{L}$$\n",
    "\n",
    "このとき、選択肢$a_1$(対策なし)を採用する場合の期待利得は以下のようになる。\n",
    "\n",
    "\\begin{align}\n",
    "\\text{ESV}(a_1|P(\\theta))&=\\sum_{i=1}^2P(\\theta_i)\\cdot c'(a_1,\\theta_i)\\\\\n",
    "&=P(\\theta_1)\\cdot c'(a_1, \\theta_1)+P(\\theta_2)\\cdot c'(a_1, \\theta_2)\\\\\n",
    "&=P(\\theta_1)\\cdot 0-P(\\theta_2)\\cdot 1\\\\\n",
    "&=-P(\\theta_2)\n",
    "\n",
    "\\end{align}\n",
    "\n",
    "\n",
    "同様に、選択肢$a_2$(対策あり)を採用する場合の期待利得は以下のようになる。\n",
    "$P(\\theta_1)+P(\\theta_2)=1$であることに注意。\n",
    "\n",
    "\\begin{align}\n",
    "\\text{ESV}(a_2|P(\\theta))&=\\sum_{i=1}^2P(\\theta_i)\\cdot c'(a_2,\\theta_i)\\\\\n",
    "&=P(\\theta_1)\\cdot c'(a_2, \\theta_1)+P(\\theta_2)\\cdot c'(a_2, \\theta_2)\\\\\n",
    "&=- P(\\theta_1)\\cdot \\frac{C}{L}-P(\\theta_2)\\cdot \\frac{C}{L}\\\\\n",
    "&=-\\frac{C}{L}\n",
    "\n",
    "\\end{align}"
   ]
  },
  {
   "cell_type": "markdown",
   "metadata": {},
   "source": [
    "このことから、以下がわかる。\n",
    "\n",
    "- $\\frac{C}{L}>P(\\theta_2)$のとき、$\\text{ESV}(a_1|P(\\theta))$の方が期待利得が大きくなる→対策なし$a_1$を選択\n",
    "- $\\frac{C}{L}<P(\\theta_2)$のとき、$\\text{ESV}(a_2|P(\\theta))$の方が期待利得が大きくなる→対策あり$a_2$を選択"
   ]
  },
  {
   "cell_type": "markdown",
   "metadata": {},
   "source": []
  }
 ],
 "metadata": {
  "language_info": {
   "name": "python"
  }
 },
 "nbformat": 4,
 "nbformat_minor": 2
}
