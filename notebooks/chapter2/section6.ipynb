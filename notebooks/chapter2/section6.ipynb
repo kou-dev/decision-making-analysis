{
 "cells": [
  {
   "cell_type": "markdown",
   "metadata": {},
   "source": [
    "### 利得行列\n",
    "\n",
    "||1台稼働$a_1$|2台稼働$a_2$|\n",
    "|---|---|---|\n",
    "|好況$\\theta_1$|$c(a_1, \\theta_1)=300$|$c(a_2, \\theta_1)=700$|\n",
    "|不況$\\theta_2$|$c(a_1, \\theta_2)=300$|$c(a_2, \\theta_2)=-300$|"
   ]
  },
  {
   "cell_type": "markdown",
   "metadata": {},
   "source": [
    "### 自然の状態と予測値の同時分布$P(\\theta, f)$\n",
    "\n",
    "|||予測値$F$|>|>|\n",
    "|||好況予測$f_1$|不況予測$f_2$|合計|\n",
    "|---|---|---|---|---|\n",
    "|自然の状態$\\Theta$|好況$\\theta_1$|$P(\\theta_1,f_1)=0.35$|$P(\\theta_1, f_2)=0.05$|$P(\\theta_1)=0.4$|\n",
    "||不況$\\theta_2$|$P(\\theta_2,f_1)=0.1$|$P(\\theta_2, f_2)=0.5$|$P(\\theta_2)=0.6$|\n",
    "||合計|$P(f_1)=0.45$|$P(f_2)=0.55$|1|"
   ]
  },
  {
   "cell_type": "markdown",
   "metadata": {},
   "source": [
    "条件付き確立$P(\\theta_i|f_k)=P(\\theta_i,f_k)\\div P(f_k)$"
   ]
  },
  {
   "cell_type": "code",
   "execution_count": 2,
   "metadata": {},
   "outputs": [
    {
     "data": {
      "text/plain": [
       "0.7777777777777777"
      ]
     },
     "execution_count": 2,
     "metadata": {},
     "output_type": "execute_result"
    }
   ],
   "source": [
    "# 好況予測が出されたときに好況となる確率\n",
    "# 好況の確率 / 好況の予測が出ている確率 \n",
    "0.35 / 0.45"
   ]
  },
  {
   "cell_type": "markdown",
   "metadata": {},
   "source": [
    "これは現状の混同行列で言うとこう。\n",
    "\n",
    "|||猫と予測|猫ではないと予測|\n",
    "|---|---|---|---|\n",
    "|実際|猫だ|TP|FN|\n",
    "||猫じゃない|FP|TN|\n",
    "\n",
    "このとき、先ほどの条件付き確立は「猫と予測されたときに実際に猫である確率」になる。\n",
    "\n",
    "式にすると以下。\n",
    "$$P(\\theta_{\\text{猫である}}|f_{\\text{猫と予測}}) = \\frac{\\text{TP}}{(\\text{TP}+\\text{FP})} = \\text{Precision(精度・適合率)}$$"
   ]
  },
  {
   "cell_type": "markdown",
   "metadata": {},
   "source": [
    "### 条件付き期待値\n",
    "\n",
    "> 情報$f_k$が与えられたときに、何らかの選択$a_j$を行った時の期待金額$\\text{EMV}(a_j|P(\\theta|f_k))$は以下のように計算できる。\n",
    "\n",
    "$$\\text{EMV}(a_j|P(\\theta|f_k)) = \\sum_{i=1}^{\\#\\Theta}P(\\theta_i|f_k)\\cdot c(a_j, \\theta_i)$$\n",
    "\n",
    "\n",
    "$\\text{EMV}(a_j|P(\\theta|f_k))$を最大にする選択肢を$a^{\\ast}_{f_k}$と表すとする。"
   ]
  },
  {
   "cell_type": "markdown",
   "metadata": {},
   "source": [
    "これに先ほどの好況・不況予測を入れて確認する。\n",
    "\n",
    "以下は【好況予測】が出たという条件にて【1台稼働】を採用した場合の条件付き期待金額。\n",
    "\n",
    "\\begin{align}\n",
    "    \\text{EMV}(a_1|P(\\theta|f_1))&=\\sum_{i=1}^{2}P(\\theta_i|f_1)\\cdot c(a_1,\\theta_i)\\\\\n",
    "    &=P(\\theta_1|f_1)\\cdot c(a_1,\\theta_1)+ P(\\theta_2|f_1)\\cdot c(a_1, \\theta_2)\\\\\n",
    "    &= 0.778 \\cdot 300 + 0.222\\cdot 300\\\\\n",
    "    &= 300\n",
    "\n",
    "\\end{align}    \n"
   ]
  }
 ],
 "metadata": {
  "kernelspec": {
   "display_name": "Python 3 (ipykernel)",
   "language": "python",
   "name": "python3"
  },
  "language_info": {
   "codemirror_mode": {
    "name": "ipython",
    "version": 3
   },
   "file_extension": ".py",
   "mimetype": "text/x-python",
   "name": "python",
   "nbconvert_exporter": "python",
   "pygments_lexer": "ipython3",
   "version": "3.10.12"
  }
 },
 "nbformat": 4,
 "nbformat_minor": 2
}
