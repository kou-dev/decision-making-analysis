{
 "cells": [
  {
   "cell_type": "markdown",
   "metadata": {},
   "source": [
    "# 意思決定問題\n",
    "\n",
    "## 問題設定\n",
    "\n",
    "- 選択肢: 機械の稼働台数（0台・1台・2台）\n",
    "- 自然の状態: 製品の需要量（好況・不況）\n",
    "\n",
    "## パラメータ\n",
    "\n",
    "- 工場の固定費用(fixed_cost): 100万円\n",
    "- 機械1台の稼働コスト(run_cost): 600万円\n",
    "- 製品1角つの販売価格(sale_price): 0.2万円\n",
    "- 機械1台で作られる製品数(machine_ability): 5_000個\n",
    "- 好況時の需要量(demand_boom): 100_000個\n",
    "- 不況時の需要量(demand_slump): 5_000個"
   ]
  },
  {
   "cell_type": "markdown",
   "metadata": {},
   "source": [
    "この時、製品製造数は以下となる。\n",
    "\n",
    "$$\\text{製品製造数}=\\text{machine\\_ability}\\times\\text{機械の稼働台数}$$\n",
    "\n",
    "製品販売数は製品製造数と需要量の小さい方となる。\n",
    "\n",
    "$$\\text{製品販売数}=\\min(\\text{製品製造数},\\text{需要量})$$\n",
    "\n",
    "売上金額は製品販売数に販売価格をかけて算出できる。\n",
    "\n",
    "$$\\text{売上金額}=\\text{製品販売数}\\times\\text{sale\\_price}$$\n",
    "\n",
    "製造コストは機械の稼働台数によって変化する。また、機会を1台も稼働させなくても固定費用が発生する。\n",
    "\n",
    "$$\\text{製造コスト}=\\text{fixed\\_cost}+\\text{run\\_cost}\\times\\text{機械の稼働台数}$$\n",
    "\n",
    "売上金額から製造コストを引いたものが利得になる。\n",
    "\n",
    "$$\\text{利得}=\\text{売上金額}-\\text{製造コスト}$$\n",
    "\n",
    "\n",
    "---\n",
    "これらを踏まえてモデルを作成する。"
   ]
  },
  {
   "cell_type": "code",
   "execution_count": 1,
   "metadata": {},
   "outputs": [],
   "source": [
    "import pandas as pd\n",
    "import numpy as np"
   ]
  },
  {
   "cell_type": "code",
   "execution_count": 2,
   "metadata": {},
   "outputs": [],
   "source": [
    "# パラメータ設定\n",
    "fixed_cost = 100\n",
    "run_cost = 600\n",
    "sale_price = 0.2\n",
    "machine_ability = 5_000\n",
    "demand_boom = 10_000\n",
    "demand_slump = 5_000"
   ]
  },
  {
   "cell_type": "markdown",
   "metadata": {},
   "source": [
    "まずは利得行列を作成する。"
   ]
  },
  {
   "cell_type": "code",
   "execution_count": 4,
   "metadata": {},
   "outputs": [],
   "source": [
    "num_product_df = pd.DataFrame({\n",
    "    \"0台\": [0, 0],\n",
    "    \"1台\": [min([machine_ability, demand_boom]),\n",
    "        min([machine_ability, demand_slump]),\n",
    "    ],\n",
    "    \"2台\": [min([machine_ability * 2, demand_boom]),\n",
    "        min([machine_ability * 2, demand_slump]),\n",
    "    ]\n",
    "})\n",
    "\n",
    "num_product_df.index = [\"好況\", \"不況\"]"
   ]
  },
  {
   "cell_type": "code",
   "execution_count": 5,
   "metadata": {},
   "outputs": [
    {
     "data": {
      "text/html": [
       "<div>\n",
       "<style scoped>\n",
       "    .dataframe tbody tr th:only-of-type {\n",
       "        vertical-align: middle;\n",
       "    }\n",
       "\n",
       "    .dataframe tbody tr th {\n",
       "        vertical-align: top;\n",
       "    }\n",
       "\n",
       "    .dataframe thead th {\n",
       "        text-align: right;\n",
       "    }\n",
       "</style>\n",
       "<table border=\"1\" class=\"dataframe\">\n",
       "  <thead>\n",
       "    <tr style=\"text-align: right;\">\n",
       "      <th></th>\n",
       "      <th>0台</th>\n",
       "      <th>1台</th>\n",
       "      <th>2台</th>\n",
       "    </tr>\n",
       "  </thead>\n",
       "  <tbody>\n",
       "    <tr>\n",
       "      <th>好況</th>\n",
       "      <td>0</td>\n",
       "      <td>5000</td>\n",
       "      <td>10000</td>\n",
       "    </tr>\n",
       "    <tr>\n",
       "      <th>不況</th>\n",
       "      <td>0</td>\n",
       "      <td>5000</td>\n",
       "      <td>5000</td>\n",
       "    </tr>\n",
       "  </tbody>\n",
       "</table>\n",
       "</div>"
      ],
      "text/plain": [
       "    0台    1台     2台\n",
       "好況   0  5000  10000\n",
       "不況   0  5000   5000"
      ]
     },
     "metadata": {},
     "output_type": "display_data"
    }
   ],
   "source": [
    "display(num_product_df)"
   ]
  },
  {
   "cell_type": "markdown",
   "metadata": {},
   "source": [
    "これに製品の販売価格をかけると売り上げ行列が得られる。"
   ]
  },
  {
   "cell_type": "code",
   "execution_count": 6,
   "metadata": {},
   "outputs": [
    {
     "data": {
      "text/html": [
       "<div>\n",
       "<style scoped>\n",
       "    .dataframe tbody tr th:only-of-type {\n",
       "        vertical-align: middle;\n",
       "    }\n",
       "\n",
       "    .dataframe tbody tr th {\n",
       "        vertical-align: top;\n",
       "    }\n",
       "\n",
       "    .dataframe thead th {\n",
       "        text-align: right;\n",
       "    }\n",
       "</style>\n",
       "<table border=\"1\" class=\"dataframe\">\n",
       "  <thead>\n",
       "    <tr style=\"text-align: right;\">\n",
       "      <th></th>\n",
       "      <th>0台</th>\n",
       "      <th>1台</th>\n",
       "      <th>2台</th>\n",
       "    </tr>\n",
       "  </thead>\n",
       "  <tbody>\n",
       "    <tr>\n",
       "      <th>好況</th>\n",
       "      <td>0.0</td>\n",
       "      <td>1000.0</td>\n",
       "      <td>2000.0</td>\n",
       "    </tr>\n",
       "    <tr>\n",
       "      <th>不況</th>\n",
       "      <td>0.0</td>\n",
       "      <td>1000.0</td>\n",
       "      <td>1000.0</td>\n",
       "    </tr>\n",
       "  </tbody>\n",
       "</table>\n",
       "</div>"
      ],
      "text/plain": [
       "     0台      1台      2台\n",
       "好況  0.0  1000.0  2000.0\n",
       "不況  0.0  1000.0  1000.0"
      ]
     },
     "metadata": {},
     "output_type": "display_data"
    }
   ],
   "source": [
    "sales_df = num_product_df * sale_price\n",
    "display(sales_df)"
   ]
  },
  {
   "cell_type": "markdown",
   "metadata": {},
   "source": [
    "次に製造コストを計算する。"
   ]
  },
  {
   "cell_type": "code",
   "execution_count": 7,
   "metadata": {},
   "outputs": [
    {
     "data": {
      "text/html": [
       "<div>\n",
       "<style scoped>\n",
       "    .dataframe tbody tr th:only-of-type {\n",
       "        vertical-align: middle;\n",
       "    }\n",
       "\n",
       "    .dataframe tbody tr th {\n",
       "        vertical-align: top;\n",
       "    }\n",
       "\n",
       "    .dataframe thead th {\n",
       "        text-align: right;\n",
       "    }\n",
       "</style>\n",
       "<table border=\"1\" class=\"dataframe\">\n",
       "  <thead>\n",
       "    <tr style=\"text-align: right;\">\n",
       "      <th></th>\n",
       "      <th>0台</th>\n",
       "      <th>1台</th>\n",
       "      <th>2台</th>\n",
       "    </tr>\n",
       "  </thead>\n",
       "  <tbody>\n",
       "    <tr>\n",
       "      <th>好況</th>\n",
       "      <td>100</td>\n",
       "      <td>700</td>\n",
       "      <td>1300</td>\n",
       "    </tr>\n",
       "    <tr>\n",
       "      <th>不況</th>\n",
       "      <td>100</td>\n",
       "      <td>700</td>\n",
       "      <td>1300</td>\n",
       "    </tr>\n",
       "  </tbody>\n",
       "</table>\n",
       "</div>"
      ],
      "text/plain": [
       "     0台   1台    2台\n",
       "好況  100  700  1300\n",
       "不況  100  700  1300"
      ]
     },
     "metadata": {},
     "output_type": "display_data"
    }
   ],
   "source": [
    "run_cost_df = pd.DataFrame({\n",
    "    \"0台\": np.repeat(fixed_cost, 2),\n",
    "    \"1台\": np.repeat(fixed_cost + run_cost, 2),\n",
    "    \"2台\": np.repeat(fixed_cost + run_cost * 2, 2),\n",
    "})\n",
    "run_cost_df.index = [\"好況\", \"不況\"]\n",
    "display(run_cost_df)"
   ]
  },
  {
   "cell_type": "markdown",
   "metadata": {},
   "source": [
    "売り上げ行列から製造コストを差し引いて利得行列を出す。"
   ]
  },
  {
   "cell_type": "code",
   "execution_count": 9,
   "metadata": {},
   "outputs": [
    {
     "data": {
      "text/html": [
       "<div>\n",
       "<style scoped>\n",
       "    .dataframe tbody tr th:only-of-type {\n",
       "        vertical-align: middle;\n",
       "    }\n",
       "\n",
       "    .dataframe tbody tr th {\n",
       "        vertical-align: top;\n",
       "    }\n",
       "\n",
       "    .dataframe thead th {\n",
       "        text-align: right;\n",
       "    }\n",
       "</style>\n",
       "<table border=\"1\" class=\"dataframe\">\n",
       "  <thead>\n",
       "    <tr style=\"text-align: right;\">\n",
       "      <th></th>\n",
       "      <th>0台</th>\n",
       "      <th>1台</th>\n",
       "      <th>2台</th>\n",
       "    </tr>\n",
       "  </thead>\n",
       "  <tbody>\n",
       "    <tr>\n",
       "      <th>好況</th>\n",
       "      <td>-100.0</td>\n",
       "      <td>300.0</td>\n",
       "      <td>700.0</td>\n",
       "    </tr>\n",
       "    <tr>\n",
       "      <th>不況</th>\n",
       "      <td>-100.0</td>\n",
       "      <td>300.0</td>\n",
       "      <td>-300.0</td>\n",
       "    </tr>\n",
       "  </tbody>\n",
       "</table>\n",
       "</div>"
      ],
      "text/plain": [
       "       0台     1台     2台\n",
       "好況 -100.0  300.0  700.0\n",
       "不況 -100.0  300.0 -300.0"
      ]
     },
     "metadata": {},
     "output_type": "display_data"
    }
   ],
   "source": [
    "payoff_df = sales_df - run_cost_df\n",
    "display(payoff_df)"
   ]
  }
 ],
 "metadata": {
  "kernelspec": {
   "display_name": "Python 3 (ipykernel)",
   "language": "python",
   "name": "python3"
  },
  "language_info": {
   "codemirror_mode": {
    "name": "ipython",
    "version": 3
   },
   "file_extension": ".py",
   "mimetype": "text/x-python",
   "name": "python",
   "nbconvert_exporter": "python",
   "pygments_lexer": "ipython3",
   "version": "3.10.12"
  }
 },
 "nbformat": 4,
 "nbformat_minor": 2
}
